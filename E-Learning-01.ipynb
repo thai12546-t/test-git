{
 "cells": [
  {
   "cell_type": "markdown",
   "metadata": {},
   "source": [
    "1. Xuất/nhập với Python"
   ]
  },
  {
   "cell_type": "code",
   "execution_count": 1,
   "metadata": {},
   "outputs": [
    {
     "name": "stdout",
     "output_type": "stream",
     "text": [
      "Xin chào\n"
     ]
    }
   ],
   "source": [
    "#Ví dụ về xuất\n",
    "print(\"Xin chào\")"
   ]
  },
  {
   "cell_type": "code",
   "execution_count": 4,
   "metadata": {},
   "outputs": [
    {
     "name": "stdout",
     "output_type": "stream",
     "text": [
      "Trần Anh Thái\n"
     ]
    }
   ],
   "source": [
    "#Ví dụ về nhập\n",
    "mess = input(\"Nhập vào tên người dùng : \")\n",
    "print(mess)"
   ]
  },
  {
   "cell_type": "markdown",
   "metadata": {},
   "source": [
    "2. Các kiểu dữ liệu cơ bản và phép toán trên chúng (string, interger, float, bool)"
   ]
  },
  {
   "cell_type": "markdown",
   "metadata": {},
   "source": [
    "Các kiểu dữ liệu"
   ]
  },
  {
   "cell_type": "markdown",
   "metadata": {},
   "source": [
    "#String\n"
   ]
  },
  {
   "cell_type": "markdown",
   "metadata": {},
   "source": [
    "String là kiểu dữ liệu dạng chuỗi, dùng để lưu trữ các ký tự, văn bản. String thường được dùng khi cần lưu trữ tên, địa chỉ, mô tả sản phẩm"
   ]
  },
  {
   "cell_type": "code",
   "execution_count": 10,
   "metadata": {},
   "outputs": [
    {
     "name": "stdout",
     "output_type": "stream",
     "text": [
      "Kiểu dữ liệu : <class 'str'>\n",
      "Họ và tên : Trần Anh Thái\n"
     ]
    }
   ],
   "source": [
    "string = input(\"Nhập họ tên : \")\n",
    "print(f'Kiểu dữ liệu : {type(string)}')\n",
    "print(f'Họ và tên : {string}')"
   ]
  },
  {
   "cell_type": "markdown",
   "metadata": {},
   "source": [
    "#Interger"
   ]
  },
  {
   "cell_type": "markdown",
   "metadata": {},
   "source": [
    "Interger là kiểu dữ liệu số nguyên, thường dùng để lưu trữ các giá trị số nguyên không có phần thập phân như tuổi, số lượng hàng hóa."
   ]
  },
  {
   "cell_type": "code",
   "execution_count": 26,
   "metadata": {},
   "outputs": [
    {
     "name": "stdout",
     "output_type": "stream",
     "text": [
      "Kiểu dữ liệu : <class 'int'>\n",
      "Kết quả phép tính : 15\n"
     ]
    }
   ],
   "source": [
    "a = 5\n",
    "b = 10\n",
    "c = a + b\n",
    "print(f'Kiểu dữ liệu : {type(c)}')\n",
    "print(f'Kết quả phép tính : {c}')"
   ]
  },
  {
   "cell_type": "markdown",
   "metadata": {},
   "source": [
    "#Float"
   ]
  },
  {
   "cell_type": "markdown",
   "metadata": {},
   "source": [
    "Float là kiểu dữ liệu số thực, dùng để lưu trữ các giá trị có phần thập phân như cân nặng, chiều cao, điểm số."
   ]
  },
  {
   "cell_type": "code",
   "execution_count": 11,
   "metadata": {},
   "outputs": [
    {
     "name": "stdout",
     "output_type": "stream",
     "text": [
      "Kiểu dữ liệu : <class 'float'>\n",
      "Diện tích hình tròn : 78.5\n"
     ]
    }
   ],
   "source": [
    "pi = 3.14\n",
    "radius = float(input(\"Nhập bán kính hình tròn : \"))\n",
    "area = pi * radius * radius\n",
    "print(f'Kiểu dữ liệu : {type(area)}')\n",
    "print(f'Diện tích hình tròn : {area}')"
   ]
  },
  {
   "cell_type": "markdown",
   "metadata": {},
   "source": [
    "#Bool"
   ]
  },
  {
   "cell_type": "markdown",
   "metadata": {},
   "source": [
    "Bool là kiểu dữ liệu chỉ có 2 giá trị là True hoặc False, thường được dùng để kiểm tra đúng sai của điều kiện, trạng thái on/off."
   ]
  },
  {
   "cell_type": "code",
   "execution_count": 15,
   "metadata": {},
   "outputs": [
    {
     "name": "stdout",
     "output_type": "stream",
     "text": [
      "19 là số lẽ\n",
      "Kiểu dữ liệu : False\n"
     ]
    }
   ],
   "source": [
    "def sochan(idx):\n",
    "    if (idx % 2 == 0):\n",
    "        return True\n",
    "    return False\n",
    "\n",
    "idx = int(input(\"Nhập vào 1 số bất kỳ : \"))\n",
    "\n",
    "if sochan(idx):\n",
    "    print(f'{idx} là số chẵn')\n",
    "else:\n",
    "    print(f'{idx} là số lẽ')\n",
    "\n",
    "print(f'Kiểu dữ liệu : {sochan(idx)}')"
   ]
  },
  {
   "cell_type": "markdown",
   "metadata": {},
   "source": [
    "3. Các kiểu dữ liệu nâng cao: List, Tupble, Set, Dictionary"
   ]
  },
  {
   "cell_type": "markdown",
   "metadata": {},
   "source": [
    "#List\n"
   ]
  },
  {
   "cell_type": "markdown",
   "metadata": {},
   "source": [
    "List là kiểu dữ liệu dạng danh sách, dùng để lưu trữ một tập hợp các giá trị có thể thay đổi và không nhất thiết phải cùng kiểu dữ liệu. Thường được dùng để lưu thứ tự danh sách sản phẩm."
   ]
  },
  {
   "cell_type": "code",
   "execution_count": 16,
   "metadata": {},
   "outputs": [
    {
     "name": "stdout",
     "output_type": "stream",
     "text": [
      "Kiểu dữ liệu : <class 'list'>\n",
      "Danh sách : [1, 9, 2004, 23, 8]\n"
     ]
    }
   ],
   "source": [
    "listt = []\n",
    "for idx in range(5):\n",
    "    number = int(input(f'nhap số thứ {idx}'))\n",
    "    listt.append(number)\n",
    "print(f'Kiểu dữ liệu : {type(listt)}')\n",
    "print(f'Danh sách : {listt}')"
   ]
  },
  {
   "cell_type": "markdown",
   "metadata": {},
   "source": [
    "#Tuple"
   ]
  },
  {
   "cell_type": "markdown",
   "metadata": {},
   "source": [
    "Tuple là kiểu dữ liệu bộ, giống kiểu dữ liệu list nhưng giá trị không thể thay đổi. Kiểu dữ liệu Tuple thường được dùng để lưu vị trí, tọa độ."
   ]
  },
  {
   "cell_type": "code",
   "execution_count": 17,
   "metadata": {},
   "outputs": [
    {
     "name": "stdout",
     "output_type": "stream",
     "text": [
      "Kiểu dữ liệu : <class 'tuple'>\n",
      "Tọa độ điểm : (1, 9, 2004)\n"
     ]
    }
   ],
   "source": [
    "tuplee = (1,9,2004)\n",
    "print(f'Kiểu dữ liệu : {type(tuplee)}')\n",
    "print(f'Tọa độ điểm : {tuplee}')"
   ]
  },
  {
   "cell_type": "markdown",
   "metadata": {},
   "source": [
    "#Set"
   ]
  },
  {
   "cell_type": "markdown",
   "metadata": {},
   "source": [
    "Set là kiểu dữ liệu tập hợp, dùng để lưu trữ các giá trị duy nhất không theo thứ tự, thường dùng để lưu trữ các giá trị không bị trùng lặp."
   ]
  },
  {
   "cell_type": "code",
   "execution_count": 27,
   "metadata": {},
   "outputs": [
    {
     "name": "stdout",
     "output_type": "stream",
     "text": [
      "Kiểu dữ liệu : <class 'set'>\n",
      "Danh sách : {8, 2020, 76, 23}\n"
     ]
    }
   ],
   "source": [
    "#Nhập 23,8,2020,76,8\n",
    "sett = set()\n",
    "for idx in range(5):\n",
    "    number = int(input(f'nhap số thứ {idx}'))\n",
    "    sett.add(number)\n",
    "print(f'Kiểu dữ liệu : {type(sett)}')\n",
    "print(f'Danh sách : {sett}')"
   ]
  },
  {
   "cell_type": "markdown",
   "metadata": {},
   "source": [
    "#Dictionary"
   ]
  },
  {
   "cell_type": "markdown",
   "metadata": {},
   "source": [
    "Dict là kiểu dữ liệu từ điển, dùng để lưu trữ các cặp dữ liệu (khóa - giá trị), cho phép truy cập giá trị thông qua khóa. Thường dùng để lưu dữ các cặp giá trị về thông tin người dùng, sản phẩm."
   ]
  },
  {
   "cell_type": "code",
   "execution_count": 25,
   "metadata": {},
   "outputs": [
    {
     "name": "stdout",
     "output_type": "stream",
     "text": [
      "Họ và tên : Trần Anh Thái\n",
      "MSSV : 22H1320007\n",
      "Kiểu dữ liệu : <class 'dict'>\n"
     ]
    }
   ],
   "source": [
    "information = {\"name\" : \"Trần Anh Thái\", \"MSSV\" : \"22H1320007\"}\n",
    "if \"name\" in information:\n",
    "    print(f'Họ và tên : {information[\"name\"]}')\n",
    "else:\n",
    "    print(\"không tìm thấy\")\n",
    "\n",
    "if \"MSSV\" in information:\n",
    "    print(f'MSSV : {information[\"MSSV\"]}')\n",
    "else:\n",
    "    print(\"không tìm thấy\")\n",
    "\n",
    "print(f'Kiểu dữ liệu : {type(information)}')\n"
   ]
  },
  {
   "cell_type": "markdown",
   "metadata": {},
   "source": [
    "4. Cấu trúc lệnh trong python"
   ]
  },
  {
   "cell_type": "markdown",
   "metadata": {},
   "source": [
    "4.a Lệnh điều kiện"
   ]
  },
  {
   "cell_type": "code",
   "execution_count": 28,
   "metadata": {},
   "outputs": [
    {
     "name": "stdout",
     "output_type": "stream",
     "text": [
      "8 là số chẵn\n"
     ]
    }
   ],
   "source": [
    "idx = int(input(\"Nhập vào 1 số bất kỳ : \"))\n",
    "\n",
    "if idx % 2 == 0:\n",
    "    print(f'{idx} là số chẵn')\n",
    "else:\n",
    "    print(f'{idx} là số lẽ')"
   ]
  },
  {
   "cell_type": "markdown",
   "metadata": {},
   "source": [
    "4.b Lệnh lặp"
   ]
  },
  {
   "cell_type": "code",
   "execution_count": 33,
   "metadata": {},
   "outputs": [
    {
     "name": "stdout",
     "output_type": "stream",
     "text": [
      "0 1 2 3 4 5 6 7 8 9 10 11 12 13 14 15 16 17 18 19 "
     ]
    }
   ],
   "source": [
    "for idx in range(20):\n",
    "    print(idx, end=\" \")"
   ]
  },
  {
   "cell_type": "markdown",
   "metadata": {},
   "source": [
    "5. Khai báo hàm"
   ]
  },
  {
   "cell_type": "code",
   "execution_count": 34,
   "metadata": {},
   "outputs": [
    {
     "name": "stdout",
     "output_type": "stream",
     "text": [
      "Trần Anh Thái\n"
     ]
    }
   ],
   "source": [
    "def inra(mess):\n",
    "    print(mess)\n",
    "\n",
    "inra(\"Trần Anh Thái\")"
   ]
  },
  {
   "cell_type": "markdown",
   "metadata": {},
   "source": [
    "6. Đọc ghi file văn bản"
   ]
  },
  {
   "cell_type": "code",
   "execution_count": 36,
   "metadata": {},
   "outputs": [
    {
     "name": "stdout",
     "output_type": "stream",
     "text": [
      "Nội dung file : \n",
      "Trần Anh Thái\n",
      "DL22CLC\n",
      "TEST\n"
     ]
    }
   ],
   "source": [
    "with open(\"testgit\", \"r\", encoding=\"utf-8\") as file:\n",
    "    content = file.read()\n",
    "\n",
    "print(\"Nội dung file : \")\n",
    "print(content)"
   ]
  }
 ],
 "metadata": {
  "kernelspec": {
   "display_name": "Python 3",
   "language": "python",
   "name": "python3"
  },
  "language_info": {
   "codemirror_mode": {
    "name": "ipython",
    "version": 3
   },
   "file_extension": ".py",
   "mimetype": "text/x-python",
   "name": "python",
   "nbconvert_exporter": "python",
   "pygments_lexer": "ipython3",
   "version": "3.12.6"
  }
 },
 "nbformat": 4,
 "nbformat_minor": 2
}
