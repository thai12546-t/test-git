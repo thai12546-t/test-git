{
 "cells": [
  {
   "cell_type": "markdown",
   "metadata": {},
   "source": [
    "## Họ và tên : Trần Anh Thái\n",
    "## MSSV : 22H1320007"
   ]
  },
  {
   "cell_type": "markdown",
   "metadata": {},
   "source": [
    "## -----Bài tập 01.2-----"
   ]
  },
  {
   "cell_type": "markdown",
   "metadata": {},
   "source": [
    "## 1. Đếm xem có bao nhiêu dòng và bao nhiêu dòng xuất hiện spam và bao nhiêu dòng xuất hiện ham trong file trên"
   ]
  },
  {
   "cell_type": "code",
   "execution_count": 11,
   "metadata": {},
   "outputs": [
    {
     "name": "stdout",
     "output_type": "stream",
     "text": [
      "Tổng số dòng : 5574\n",
      "Tổng số dòng xuất hiện spam : 747\n",
      "Tổng số dòng xuất hiện ham : 4827\n"
     ]
    }
   ],
   "source": [
    "total_of_lines = 0\n",
    "total_of_spam = 0\n",
    "total_of_ham = 0\n",
    "with open(\"SMSSpamCollection\", \"r\", encoding=\"utf-8\") as file:\n",
    "    for line in file:\n",
    "        total_of_lines += 1\n",
    "        label, content = line.split('\\t', 1)\n",
    "        if label.lower() == \"spam\":\n",
    "            total_of_spam += 1\n",
    "        elif label.lower() == \"ham\":\n",
    "            total_of_ham += 1\n",
    "        \n",
    "print(f'Tổng số dòng : {total_of_lines}')\n",
    "print(f'Tổng số dòng xuất hiện spam : {total_of_spam}')\n",
    "print(f'Tổng số dòng xuất hiện ham : {total_of_ham}')\n",
    "    "
   ]
  },
  {
   "cell_type": "markdown",
   "metadata": {},
   "source": [
    "## 2. Đếm xem có bao nhiêu từ (các từ ngăn cách bởi khoảng trắng, và không phải chữ số)"
   ]
  },
  {
   "cell_type": "code",
   "execution_count": 20,
   "metadata": {},
   "outputs": [
    {
     "name": "stdout",
     "output_type": "stream",
     "text": [
      "Số từ ngăn cách bởi khoảng trắng và không phải chữ số : 85067\n"
     ]
    }
   ],
   "source": [
    "count_words = 0\n",
    "with open(\"SMSSpamCollection\", \"r\", encoding=\"utf-8\") as file:\n",
    "    for line in file:\n",
    "        words = line.split('\\t', 1)[1].strip().split()\n",
    "        for word in words:\n",
    "            if not word.isdigit():\n",
    "                count_words += 1\n",
    "\n",
    "print(f'Số từ ngăn cách bởi khoảng trắng và không phải chữ số : {count_words}')\n"
   ]
  },
  {
   "cell_type": "markdown",
   "metadata": {},
   "source": [
    "## 3. Đếm xem có bao nhiêu từ 'you' (không phân biệt hoa thường)"
   ]
  },
  {
   "cell_type": "code",
   "execution_count": 26,
   "metadata": {},
   "outputs": [
    {
     "name": "stdout",
     "output_type": "stream",
     "text": [
      "số lần từ you xuất hiện là : 1921\n"
     ]
    }
   ],
   "source": [
    "count_you = 0\n",
    "with open(\"SMSSpamCollection\", \"r\", encoding=\"utf-8\") as file:\n",
    "    for line in file:\n",
    "        words = line.split('\\t', 1)[1].lower().strip().split()\n",
    "        count_you += words.count(\"you\")\n",
    "    \n",
    "print(f'số lần từ you xuất hiện là : {count_you}')"
   ]
  },
  {
   "cell_type": "markdown",
   "metadata": {},
   "source": [
    "## 4. Đếm xem có bao nhiêu từ khác nhau (không phân biết hoa thường)"
   ]
  },
  {
   "cell_type": "code",
   "execution_count": 30,
   "metadata": {},
   "outputs": [
    {
     "name": "stdout",
     "output_type": "stream",
     "text": [
      "Số từ khác nhau : 13214\n"
     ]
    }
   ],
   "source": [
    "count_different_words = set()\n",
    "with open(\"SMSSpamCollection\", \"r\", encoding=\"utf-8\") as file:\n",
    "    for line in file:\n",
    "        words = line.split('\\t', 1)[1].lower().strip().split()\n",
    "        for word in words:\n",
    "            if not word.isdigit():\n",
    "                count_different_words.add(word)\n",
    "\n",
    "print(f'Số từ khác nhau : {len(count_different_words)}')"
   ]
  },
  {
   "cell_type": "markdown",
   "metadata": {},
   "source": [
    "## 5. Liệt kê 10 từ khóa xuất hiện nhiều nhất trong file dữ liệu (không phân biết hoa thường)"
   ]
  },
  {
   "cell_type": "code",
   "execution_count": 48,
   "metadata": {},
   "outputs": [
    {
     "name": "stdout",
     "output_type": "stream",
     "text": [
      "10 từ khóa xuất hiện nhiều nhất :\n",
      "^-^ to : 2237 lần\n",
      "^-^ i : 2217 lần\n",
      "^-^ you : 1921 lần\n",
      "^-^ a : 1433 lần\n",
      "^-^ the : 1328 lần\n",
      "^-^ u : 998 lần\n",
      "^-^ and : 968 lần\n",
      "^-^ is : 869 lần\n",
      "^-^ in : 859 lần\n",
      "^-^ my : 755 lần\n"
     ]
    }
   ],
   "source": [
    "from collections import Counter\n",
    "\n",
    "words_list = []\n",
    "with open(\"SMSSpamCollection\", \"r\", encoding=\"utf-8\") as file:\n",
    "    for line in file:\n",
    "        words = line.split('\\t', 1)[1].lower().strip().split()\n",
    "        words_list.extend(words)\n",
    "\n",
    "words_count = Counter(words_list)\n",
    "top_10_words = words_count.most_common(10)\n",
    "print(f'10 từ khóa xuất hiện nhiều nhất :')\n",
    "for word, countt in top_10_words:\n",
    "    print(f'^-^ {word} : {countt} lần')\n",
    "\n"
   ]
  }
 ],
 "metadata": {
  "kernelspec": {
   "display_name": "Python 3",
   "language": "python",
   "name": "python3"
  },
  "language_info": {
   "codemirror_mode": {
    "name": "ipython",
    "version": 3
   },
   "file_extension": ".py",
   "mimetype": "text/x-python",
   "name": "python",
   "nbconvert_exporter": "python",
   "pygments_lexer": "ipython3",
   "version": "3.12.6"
  }
 },
 "nbformat": 4,
 "nbformat_minor": 2
}
