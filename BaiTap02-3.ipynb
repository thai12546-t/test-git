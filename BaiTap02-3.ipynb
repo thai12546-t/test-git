{
 "cells": [
  {
   "cell_type": "markdown",
   "metadata": {},
   "source": [
    "## Họ và tên : Trần Anh Thái\n",
    "## MSSV : 22H1320007"
   ]
  },
  {
   "cell_type": "markdown",
   "metadata": {},
   "source": [
    "## 1. Nạp dự liệu iris vào bộ nhớ và hiển thị thông tin về số thuộc tính (dimensionality), số objects (size)."
   ]
  },
  {
   "cell_type": "code",
   "execution_count": 1,
   "metadata": {},
   "outputs": [
    {
     "name": "stdout",
     "output_type": "stream",
     "text": [
      "(150, 5)\n",
      "     sepal length (cm)  sepal width (cm)  petal length (cm)  petal width (cm)  \\\n",
      "100                6.3               3.3                6.0               2.5   \n",
      "130                7.4               2.8                6.1               1.9   \n",
      "139                6.9               3.1                5.4               2.1   \n",
      "\n",
      "     Target  \n",
      "100       2  \n",
      "130       2  \n",
      "139       2  \n"
     ]
    }
   ],
   "source": [
    "from sklearn.datasets import load_iris\n",
    "import pandas as pd\n",
    "iris = load_iris()\n",
    "df = pd.DataFrame(data=iris.data, columns= iris.feature_names)\n",
    "df['Target'] = iris.target\n",
    "print(df.shape)\n",
    "print(df.sample(3))"
   ]
  },
  {
   "cell_type": "markdown",
   "metadata": {},
   "source": [
    "## 2. Đặt nhãn (label) cho dữ liệu đã nạp và hiển thị số lớp (classes)"
   ]
  },
  {
   "cell_type": "code",
   "execution_count": 2,
   "metadata": {},
   "outputs": [
    {
     "data": {
      "text/plain": [
       "array(['setosa', 'versicolor', 'virginica'], dtype='<U10')"
      ]
     },
     "execution_count": 2,
     "metadata": {},
     "output_type": "execute_result"
    }
   ],
   "source": [
    "iris.target_names"
   ]
  },
  {
   "cell_type": "code",
   "execution_count": 3,
   "metadata": {},
   "outputs": [],
   "source": [
    "target_names = {0 : 'setosa', 1 : 'versicolor', 2 : 'virginica'}\n",
    "df['Target'] = df['Target'].map(target_names)"
   ]
  },
  {
   "cell_type": "code",
   "execution_count": 4,
   "metadata": {},
   "outputs": [
    {
     "name": "stdout",
     "output_type": "stream",
     "text": [
      "Number of classes : 3\n",
      "['setosa' 'versicolor' 'virginica'] \n",
      "\n",
      "Number of Features : 4\n",
      "['sepal length (cm)', 'sepal width (cm)', 'petal length (cm)', 'petal width (cm)']\n"
     ]
    }
   ],
   "source": [
    "labels = iris.target_names\n",
    "print(f'Number of classes : {len(labels)}')\n",
    "print(labels,'\\n')\n",
    "\n",
    "feature_names = iris.feature_names\n",
    "print(f'Number of Features : {len(feature_names)}')\n",
    "print(feature_names)\n"
   ]
  },
  {
   "cell_type": "markdown",
   "metadata": {},
   "source": [
    "## 3. Tách dữ liệu thành hai phần: training data(70%) và test data (30%)"
   ]
  },
  {
   "cell_type": "code",
   "execution_count": 5,
   "metadata": {},
   "outputs": [
    {
     "name": "stdout",
     "output_type": "stream",
     "text": [
      "(105, 4) (105,)\n",
      "(45, 4) (45,)\n",
      "     sepal length (cm)  sepal width (cm)  petal length (cm)  petal width (cm)\n",
      "60                 5.0               2.0                3.5               1.0\n",
      "116                6.5               3.0                5.5               1.8\n",
      "144                6.7               3.3                5.7               2.5\n",
      "     sepal length (cm)  sepal width (cm)  petal length (cm)  petal width (cm)\n",
      "114                5.8               2.8                5.1               2.4\n",
      "62                 6.0               2.2                4.0               1.0\n",
      "33                 5.5               4.2                1.4               0.2\n"
     ]
    }
   ],
   "source": [
    "from sklearn.model_selection import train_test_split, GridSearchCV\n",
    "X = df[feature_names]\n",
    "Y = iris.target\n",
    "X_train, X_test, Y_train, Y_test = train_test_split(X, Y, random_state=0, train_size=0.7, test_size=0.3)\n",
    "print(X_train.shape, Y_train.shape)\n",
    "print(X_test.shape, Y_test.shape)\n",
    "print(X_train.head(3))\n",
    "print(X_test.head(3))"
   ]
  },
  {
   "cell_type": "markdown",
   "metadata": {},
   "source": [
    "## 4. Chuẩn hóa dữ liệu với StandardScaler"
   ]
  },
  {
   "cell_type": "code",
   "execution_count": 6,
   "metadata": {},
   "outputs": [
    {
     "name": "stdout",
     "output_type": "stream",
     "text": [
      "[[-1.02366372 -2.37846268 -0.18295039 -0.29318114]\n",
      " [ 0.69517462 -0.10190314  0.93066067  0.7372463 ]\n",
      " [ 0.92435306  0.58106472  1.04202177  1.63887031]]\n"
     ]
    }
   ],
   "source": [
    "from sklearn.preprocessing import StandardScaler\n",
    "scaler = StandardScaler()\n",
    "X_train = scaler.fit_transform(X_train)\n",
    "X_test = scaler.fit_transform(X_test)\n",
    "print(X_train[0:3])"
   ]
  },
  {
   "cell_type": "markdown",
   "metadata": {},
   "source": [
    "## Điều chỉnh các tham số của cây quyết định và chọn tham số cho kết quả là giá trị f-score tốt nhất"
   ]
  },
  {
   "cell_type": "code",
   "execution_count": 7,
   "metadata": {},
   "outputs": [
    {
     "name": "stdout",
     "output_type": "stream",
     "text": [
      "Best parameters found :  {'criterion': 'gini', 'max_depth': 4, 'min_samples_split': 4}\n",
      "Best F1 score:  0.961429117101386\n",
      "F1 score on test set:  0.9123931623931624\n"
     ]
    }
   ],
   "source": [
    "from sklearn.metrics import f1_score\n",
    "from sklearn.tree import DecisionTreeClassifier\n",
    "try:\n",
    "    clf = DecisionTreeClassifier(random_state=42)\n",
    "    param_grid = {\n",
    "    'max_depth': range(1,11),  # Kiểm tra độ sâu cây\n",
    "    'min_samples_split': range(2,12),  # Kiểm tra số mẫu tối thiểu để chia\n",
    "    'criterion': ['gini', 'entropy']  # Tiêu chí chia\n",
    "}\n",
    "    grid_search = GridSearchCV(estimator=clf, param_grid=param_grid, cv=5, scoring='f1_weighted')\n",
    "\n",
    "# Huấn luyện với dữ liệu\n",
    "    grid_search.fit(X_train, Y_train)\n",
    "\n",
    "# In ra tham số tốt nhất và F1 score\n",
    "    print(\"Best parameters found : \", grid_search.best_params_)\n",
    "    print(\"Best F1 score: \", grid_search.best_score_)\n",
    "\n",
    "# Đánh giá mô hình tốt nhất trên dữ liệu test\n",
    "    best_model = grid_search.best_estimator_\n",
    "    y_pred = best_model.predict(X_test)\n",
    "\n",
    "    # Tính F1 score trên tập test\n",
    "    f1_test = f1_score(Y_test, y_pred, average='weighted')\n",
    "    print(\"F1 score on test set: \", f1_test)\n",
    "except Exception as e:\n",
    "    print(e)"
   ]
  }
 ],
 "metadata": {
  "kernelspec": {
   "display_name": "Python 3",
   "language": "python",
   "name": "python3"
  },
  "language_info": {
   "codemirror_mode": {
    "name": "ipython",
    "version": 3
   },
   "file_extension": ".py",
   "mimetype": "text/x-python",
   "name": "python",
   "nbconvert_exporter": "python",
   "pygments_lexer": "ipython3",
   "version": "3.11.1"
  }
 },
 "nbformat": 4,
 "nbformat_minor": 2
}
